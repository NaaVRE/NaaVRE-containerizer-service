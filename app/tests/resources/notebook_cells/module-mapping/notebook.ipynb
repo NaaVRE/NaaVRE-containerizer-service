{
 "cells": [
  {
   "cell_type": "code",
   "execution_count": null,
   "id": "11a4980b-a7cb-4cbd-b448-31a4d6cab723",
   "metadata": {},
   "outputs": [],
   "source": [
    "# none in environment.yaml\n",
    "import acolite\n",
    "print(acolite)\n",
    "a = 1"
   ]
  },
  {
   "cell_type": "code",
   "execution_count": null,
   "id": "36188ae8-6496-432c-94eb-93e8eddf846c",
   "metadata": {},
   "outputs": [],
   "source": [
    "print(a)"
   ]
  }
 ],
 "metadata": {
  "kernelspec": {
   "display_name": "Python [conda env:vanilla]",
   "language": "python",
   "name": "conda-env-vanilla-py"
  },
  "language_info": {
   "codemirror_mode": {
    "name": "ipython",
    "version": 3
   },
   "file_extension": ".py",
   "mimetype": "text/x-python",
   "name": "python",
   "nbconvert_exporter": "python",
   "pygments_lexer": "ipython3",
   "version": "3.13.5"
  }
 },
 "nbformat": 4,
 "nbformat_minor": 5
}
