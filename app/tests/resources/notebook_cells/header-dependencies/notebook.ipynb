{
  "cells": [
    {
      "cell_type": "code",
      "execution_count": null,
      "id": "f77681ee-093a-4ed0-a094-c373a51420c6",
      "metadata": {
        "trusted": true
      },
      "outputs": [],
      "source": "# Cell with dependency specification\n# ---\n# NaaVRE:\n#  cell:\n#   params:\n#    - param_dataverse_api_key:\n#       type: String\n#       default_value: ''\n#   outputs:\n#    - event_file: String\n#   dependencies:\n#    - name: pandas\n# ...\nprint(\"doesn't work\")\n"
    }
  ],
  "metadata": {
    "kernelspec": {
      "display_name": "Python [conda env:vanilla]",
      "language": "python",
      "name": "conda-env-vanilla-py"
    },
    "language_info": {
      "codemirror_mode": {
        "name": "ipython",
        "version": 3
      },
      "file_extension": ".py",
      "mimetype": "text/x-python",
      "name": "python",
      "nbconvert_exporter": "python",
      "pygments_lexer": "ipython3",
      "version": "3.13.2"
    }
  },
  "nbformat": 4,
  "nbformat_minor": 5
}
