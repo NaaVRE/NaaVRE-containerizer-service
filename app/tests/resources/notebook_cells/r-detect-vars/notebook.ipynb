{
 "metadata": {
  "kernelspec": {
   "display_name": "R [conda env:jupyterlab] *",
   "language": "R",
   "name": "conda-env-jupyterlab-r"
  },
  "language_info": {
   "codemirror_mode": "r",
   "file_extension": ".r",
   "mimetype": "text/x-r-source",
   "name": "R",
   "pygments_lexer": "r",
   "version": "4.3.3"
  }
 },
 "nbformat_minor": 5,
 "nbformat": 4,
 "cells": [
  {
   "cell_type": "code",
   "source": [
    "param_string <- 'param_string value'\n",
    "param_string_with_comment <- 'param_string value'  # comment\n",
    "param_int <- 1\n",
    "param_float <- 1.1\n",
    "param_list_int <- list(1, 2, 3)\n",
    "param_list_str <- list(\"list_str\", \"space in elem\", \"3\")\n",
    "\n",
    "secret_string <- 'secret_string value'\n",
    "secret_string_with_comment <- 'secret_string value'  # comment\n",
    "secret_int <- 1\n",
    "secret_float <- 1.1\n",
    "secret_list_int <- list(1, 2, 3)\n",
    "secret_list_str <- list(\"list_str\", \"space in elem\", \"3\")\n",
    "\n",
    "conf_string <- 'param_string value'\n",
    "conf_string_with_comment <- 'param_string value'  # comment\n",
    "conf_int <- 1\n",
    "conf_float <- 1.1\n",
    "conf_list_int <- list(1, 2, 3)\n",
    "conf_list_str <- list(\"list_str\", \"space in elem\", \"3\")"
   ],
   "metadata": {},
   "execution_count": 3,
   "outputs": [],
   "id": "6a964825-08cf-454b-a247-c27b79c6bcf2"
  },
  {
   "cell_type": "code",
   "source": [
    "# R detect vars: set vars\n",
    "\n",
    "var_string <- 'var_string value'\n",
    "var_string_with_comment <- 'var_string value'  # comment\n",
    "var_int <- 1\n",
    "var_float <- 1.1\n",
    "var_list_int <- list(1, 2, 3)\n",
    "var_list_str <- list(\"list_str\", \"space in elem\", \"3\")\n",
    "print(class(var_list_int))"
   ],
   "metadata": {},
   "execution_count": 4,
   "outputs": [
    {
     "name": "stdout",
     "output_type": "stream",
     "text": "[1] \"list\"\n"
    }
   ],
   "id": "62acca7c-1f91-4266-bb7e-23d85a3d7157"
  },
  {
   "cell_type": "code",
   "source": [
    "# R detect vars: print vars\n",
    "\n",
    "print(paste('conf_string: ', conf_string, ' type: ', class(conf_string)))\n",
    "print(paste('conf_string_with_comment: ', conf_string_with_comment, ' type: ', class(conf_string_with_comment)))\n",
    "print(paste('conf_int: ', conf_int, ' type: ', class(conf_int)))\n",
    "print(paste('conf_float: ', conf_float, ' type: ', class(conf_float)))\n",
    "print(paste('conf_list_int: ', toString(conf_list_int), ' type: ', class(conf_list_int)))\n",
    "print(paste('conf_list_str: ', toString(conf_list_str), ' type: ', class(conf_list_str)))\n",
    "\n",
    "print(paste('param_string: ', param_string, ' type: ', class(param_string)))\n",
    "print(paste('param_string_with_comment: ', param_string_with_comment, ' type: ', class(param_string_with_comment)))\n",
    "print(paste('param_int: ', param_int, ' type: ', class(param_int)))\n",
    "print(paste('param_float: ', param_float, ' type: ', class(param_float)))\n",
    "print(paste('param_list_int: ', toString(param_list_int), ' type: ', class(param_list_int)))\n",
    "print(paste('param_list_str: ', toString(param_list_str), ' type: ', class(param_list_str)))\n",
    "\n",
    "print(paste('secret_string: ', secret_string, ' type: ', class(secret_string)))\n",
    "print(paste('secret_string_with_comment: ', secret_string_with_comment, ' type: ', class(secret_string_with_comment)))\n",
    "print(paste('secret_int: ', secret_int, ' type: ', class(secret_int)))\n",
    "print(paste('secret_float: ', secret_float, ' type: ', class(secret_float)))\n",
    "print(paste('secret_list_int: ', toString(secret_list_int), ' type: ', class(secret_list_int)))\n",
    "print(paste('secret_list_str: ', toString(secret_list_str), ' type: ', class(secret_list_str)))\n",
    "\n",
    "print(paste('var_string: ', var_string, ' type: ', class(var_string)))\n",
    "print(paste('var_string_with_comment: ', var_string_with_comment, ' type: ', class(var_string_with_comment)))\n",
    "print(paste('var_int: ', var_int, ' type: ', class(var_int)))\n",
    "print(paste('var_float: ', var_float, ' type: ', class(var_float)))\n",
    "print(paste('var_list_int: ', toString(var_list_int), ' type: ', class(var_list_int)))\n",
    "print(paste('var_list_str: ', toString(var_list_str), ' type: ', class(var_list_str)))"
   ],
   "metadata": {},
   "execution_count": 5,
   "outputs": [
    {
     "name": "stdout",
     "output_type": "stream",
     "text": "[1] \"conf_string:  param_string value  type:  character\"\n[1] \"conf_string_with_comment:  param_string value  type:  character\"\n[1] \"conf_int:  1  type:  numeric\"\n[1] \"conf_float:  1.1  type:  numeric\"\n[1] \"conf_list_int:  1, 2, 3  type:  list\"\n[1] \"conf_list_str:  list_str, space in elem, 3  type:  list\"\n[1] \"param_string:  param_string value  type:  character\"\n[1] \"param_string_with_comment:  param_string value  type:  character\"\n[1] \"param_int:  1  type:  numeric\"\n[1] \"param_float:  1.1  type:  numeric\"\n[1] \"param_list_int:  1, 2, 3  type:  list\"\n[1] \"param_list_str:  list_str, space in elem, 3  type:  list\"\n[1] \"var_string:  var_string value  type:  character\"\n[1] \"var_string_with_comment:  var_string value  type:  character\"\n[1] \"var_int:  1  type:  numeric\"\n[1] \"var_float:  1.1  type:  numeric\"\n[1] \"var_list_int:  1, 2, 3  type:  list\"\n[1] \"var_list_str:  list_str, space in elem, 3  type:  list\"\n[1] \"All vars are of the correct type\"\n"
    }
   ],
   "id": "c7bcfe5c-5b6b-4fff-8c04-07c20f894363"
  }
 ]
}
